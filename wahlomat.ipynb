{
 "cells": [
  {
   "cell_type": "code",
   "execution_count": 66,
   "metadata": {},
   "outputs": [],
   "source": [
    "%matplotlib inline\n",
    "import numpy as np\n",
    "import matplotlib.pyplot as plt\n",
    "import sys\n",
    "import codecs\n",
    "reload(sys)\n",
    "sys.setdefaultencoding(\"utf-8\")"
   ]
  },
  {
   "cell_type": "code",
   "execution_count": 67,
   "metadata": {},
   "outputs": [],
   "source": [
    "# settings\n",
    "norm = 1  # norm for distance calculation\n",
    "\n",
    "font = {'fontname':'Century Gothic'}\n",
    "fontsize = 16\n",
    "\n",
    "# parties in the Bundestag and their colors according to their wikipedia articles\n",
    "BTParties = {\n",
    "    u'DIE LINKE': '#E3000F',\n",
    "    u'GRÜNE': '#1AA037',\n",
    "    u'SPD': '#E3000F',\n",
    "    u'CDU': 'black',\n",
    "    u'FDP': '#FFED00',\n",
    "    u'AfD': '#10BAE7'\n",
    "}\n",
    "\n",
    "ClusterColors = [\n",
    "    'magenta',\n",
    "    'black',\n",
    "    '#994d00',  # brown\n",
    "#    '#E3000F',  # red\n",
    "    '#4d79ff',  # light blue\n",
    "]\n",
    "\n",
    "BT = np.array(BTParties.keys())  # parties in Bundestag will get capital markers\n",
    "Wichtig = np.array([])  # further important parties will get large markers"
   ]
  },
  {
   "cell_type": "code",
   "execution_count": 68,
   "metadata": {},
   "outputs": [],
   "source": [
    "# read hypotheses and replies\n",
    "hypfile = 'hypotheses.txt'\n",
    "repfile = 'replies.txt'\n",
    "\n",
    "with codecs.open(hypfile, encoding='utf-8') as f:\n",
    "    Questions = f.read().split('\\n')\n",
    "    Questions = np.array(Questions)\n",
    "    \n",
    "with codecs.open(repfile, encoding='utf-8') as f:\n",
    "    Data = np.loadtxt(f, delimiter=',', \n",
    "                      dtype=[('party','U20')]+[('reply_%i' %(i+1),int) for i in xrange(len(Questions))])\n",
    "Parties = np.array([d[0] for d in Data])\n",
    "    \n",
    "V = []\n",
    "for d in Data:\n",
    "    V.append(list(d)[1:])\n",
    "V = np.array(V)\n",
    "V[V==2] = -1\n",
    "NP,N = V.shape"
   ]
  },
  {
   "cell_type": "code",
   "execution_count": 69,
   "metadata": {},
   "outputs": [],
   "source": [
    "# compute distances\n",
    "D = np.zeros((NP,NP))\n",
    "for i in xrange(NP):\n",
    "    for j in xrange(NP):\n",
    "        D[i,j] = np.linalg.norm(V[i]-V[j],norm)\n",
    "maxD = 2. * N**(1./norm)\n",
    "S = (maxD - D)/maxD"
   ]
  },
  {
   "cell_type": "code",
   "execution_count": 70,
   "metadata": {},
   "outputs": [],
   "source": [
    "# kill diagonal of S\n",
    "for i in xrange(NP):\n",
    "    for j in xrange(NP):      \n",
    "        if j == i:\n",
    "            S[i,j] = np.nan"
   ]
  },
  {
   "cell_type": "code",
   "execution_count": 71,
   "metadata": {},
   "outputs": [],
   "source": [
    "# find best k value\n",
    "#from sklearn.cluster import AffinityPropagation, KMeans\n",
    "#K = np.arange(1,NP)\n",
    "#C = []\n",
    "\n",
    "#for k in K:\n",
    "#    clustering = KMeans(n_clusters=k, n_init=500).fit(V)\n",
    "#    C.append(clustering.inertia_)\n",
    "    \n",
    "#plt.plot(K,C)"
   ]
  },
  {
   "cell_type": "code",
   "execution_count": 72,
   "metadata": {},
   "outputs": [],
   "source": [
    "# clustering of V\n",
    "from sklearn.cluster import AffinityPropagation, KMeans\n",
    "#clustering = AffinityPropagation().fit(V)\n",
    "clustering = KMeans(n_clusters=3, n_init=500, random_state=1).fit(V)\n",
    "ClusterLabels = clustering.labels_"
   ]
  },
  {
   "cell_type": "markdown",
   "metadata": {},
   "source": [
    "## PCA"
   ]
  },
  {
   "cell_type": "code",
   "execution_count": 73,
   "metadata": {},
   "outputs": [],
   "source": [
    "def projectPrinc(vec,axis):\n",
    "    return np.dot(vec,Evec[:,axis])"
   ]
  },
  {
   "cell_type": "code",
   "execution_count": 74,
   "metadata": {},
   "outputs": [],
   "source": [
    "# principal components\n",
    "m = np.mean(V,axis=0)\n",
    "Vm = V - m\n",
    "#covariance matrix\n",
    "Cov = np.cov(np.transpose(V))#np.dot(np.transpose(Vm), Vm)\n",
    "#eigenvalues, eigenvectors\n",
    "Eval, Evec = np.linalg.eigh(Cov)\n",
    "#sorting\n",
    "idx1 = Eval.argsort()[::-1]   \n",
    "Eval = Eval[idx1]\n",
    "Evec = -Evec[:,idx1]\n",
    "d_princ0 = projectPrinc(Vm,0)\n",
    "d_princ1 = projectPrinc(Vm,1)"
   ]
  },
  {
   "cell_type": "code",
   "execution_count": 75,
   "metadata": {},
   "outputs": [],
   "source": [
    "def party2D(X, Y):\n",
    "    for i in xrange(NP):\n",
    "        x,y = X[i], Y[i]\n",
    "        partei = Parties[i]\n",
    "        label = ClusterLabels[i]\n",
    "        fweight, fsize, textalpha, textcolor = \\\n",
    "                    'normal', fontsize, 0.6, 'grey'\n",
    "        marker, markersize, color, markeralpha, markeredgecolor = \\\n",
    "                    'o', 0.7*fontsize, ClusterColors[label], 0.6, 'none'\n",
    "        if partei in BT:\n",
    "            fweight, fsize, textalpha, textcolor = \\\n",
    "                        'bold', fontsize, 0.9, BTParties[partei]\n",
    "            marker, markersize, markeralpha = \\\n",
    "                        's', 0.9*fontsize, 0.9\n",
    "        elif partei in Wichtig:\n",
    "            fweight, fsize = 'bold',fontsize\n",
    "            marker, markersize = 's', 0.7*fontsize\n",
    "        ax.plot(x,y,marker=marker,markersize=markersize,markeredgecolor=markeredgecolor,\n",
    "                alpha=markeralpha, markeredgewidth=3, color=color)\n",
    "        ax.text(x,y-0.15, partei, ha='center', va='top', color=textcolor,alpha=textalpha,\n",
    "                fontsize=fsize,fontweight=fweight,**font)\n",
    "        \n",
    "    ax.text(X.max(),Y.min(), 'by /u/askLubich',\n",
    "            color='black', ha='right', va='bottom',\n",
    "            fontsize=8,**font)"
   ]
  },
  {
   "cell_type": "code",
   "execution_count": 76,
   "metadata": {},
   "outputs": [],
   "source": [
    "def wahlergebnis():\n",
    "    label = 'Nach Wahlergebnis\\ngewichtetes Mittel'\n",
    "    x,y=projectPrinc(ergebnis_mittel,0),projectPrinc(ergebnis_mittel,1)\n",
    "    ax.plot(x,y,marker='*',markersize=15,markeredgecolor='blue',color='blue')\n",
    "    ax.text(x,y-0.2, label, ha='center', va='top', color='white',\n",
    "                fontsize=fontsize-4,**font)"
   ]
  },
  {
   "cell_type": "code",
   "execution_count": null,
   "metadata": {
    "scrolled": false
   },
   "outputs": [],
   "source": [
    "#2D plot\n",
    "f, ax = plt.subplots(1, figsize=(17,17), dpi=300)\n",
    "ax.axis('off')\n",
    "f.patch.set_facecolor('white')\n",
    "party2D(d_princ0, d_princ1)\n",
    "ax.set_title('Principal component analysis - Colors show k-means clustering',\n",
    "             fontsize=fontsize+1,fontweight='normal',**font)\n",
    "f.show()\n",
    "f.savefig('2D_PCA.png',bbox_inches='tight', dpi=300,facecolor=f.get_facecolor(), edgecolor='none')"
   ]
  },
  {
   "cell_type": "code",
   "execution_count": null,
   "metadata": {
    "scrolled": false
   },
   "outputs": [],
   "source": [
    "#show contribution to princ. components\n",
    "QuestionNo = range(len(Questions))\n",
    "\n",
    "f, ax = plt.subplots(1, figsize=(6,17), dpi=300)\n",
    "#ax.axis('off')\n",
    "f.patch.set_facecolor('white')\n",
    "\n",
    "#sorting\n",
    "ndx = Evec[:,0].argsort()[::-1]\n",
    "\n",
    "#plotting\n",
    "plt.plot(Evec[:,0][ndx],QuestionNo,color='orangered',alpha=0.8)\n",
    "plt.plot(Evec[:,1][ndx],QuestionNo,color='mediumslateblue',alpha=0.8)\n",
    "plt.plot(Evec[:,0][ndx],QuestionNo,'o',color='orangered',label='PC1')\n",
    "plt.plot(Evec[:,1][ndx],QuestionNo,'o',color='mediumslateblue',label='PC2')\n",
    "ax.yaxis.tick_right()\n",
    "ax.set_ylim([-1,len(Questions)])\n",
    "plt.gca().invert_yaxis()\n",
    "plt.legend(loc='upper left')\n",
    "\n",
    "#labels\n",
    "ax.set_yticks(range(len(Questions)))\n",
    "ax.set_yticklabels(Questions[ndx],**font)\n",
    "ax.grid()\n",
    "\n",
    "ax.spines['top'].set_visible(False)\n",
    "ax.spines['right'].set_visible(False)\n",
    "#ax.spines['bottom'].set_visible(False)\n",
    "ax.spines['left'].set_visible(False)\n",
    "ax.xaxis.set_ticks_position('bottom')\n",
    "\n",
    "ax.set_title('Contributions to 1st and 2nd principal component',fontsize=fontsize+1,fontweight='normal',**font)\n",
    "ax.text(ax.get_xlim()[1], ax.get_ylim()[0]+0.3, \n",
    "        'by /u/askLubich',color='black',ha='left', va='top',fontsize=10,**font)\n",
    "\n",
    "f.show()\n",
    "f.savefig('princCont.png',bbox_inches='tight', dpi=300,facecolor=f.get_facecolor(), edgecolor='none')"
   ]
  },
  {
   "cell_type": "markdown",
   "metadata": {},
   "source": [
    "## MDS"
   ]
  },
  {
   "cell_type": "code",
   "execution_count": null,
   "metadata": {},
   "outputs": [],
   "source": [
    "#do MDS using a force field\n",
    "def getForces(X,        # current positions\n",
    "              V,        # current velocities \n",
    "              D,        # distance matrix\n",
    "              k=1.,     # spring constant \n",
    "              gamma=0., # friction coefficient\n",
    "              T=0.,     # temperature in kB\n",
    "             ):\n",
    "    nP = len(X)\n",
    "    F = np.zeros((nP,2))\n",
    "    W = 0\n",
    "    \n",
    "    for i in xrange(nP):\n",
    "        for j in xrange(i+1,nP):\n",
    "            difference = X[j] - X[i]            \n",
    "            distance = np.linalg.norm(difference)\n",
    "            if distance == 0:\n",
    "                continue\n",
    "            direction = difference/distance\n",
    "            \n",
    "            f = k* (distance - D[i,j]) * direction\n",
    "            r = np.sqrt(2*gamma*T) * np.random.normal(loc=0,scale=1)\n",
    "            F[i] = F[i] + f - gamma*V[i] + r\n",
    "            F[j] = F[j] - f - gamma*V[j] + r\n",
    "            W = W + 0.5*k*(distance - D[i,j])**2.\n",
    "            \n",
    "    return F,W\n",
    "\n",
    "def doMinimization(X0,             # initial positions\n",
    "                   D,              # distance matrix\n",
    "                   k=1.,           # spring constant\n",
    "                   dt=1e-2,        # step size\n",
    "                   maxsteps=1000,  # maximum number of steps\n",
    "                   epsilon=1e-3    # convergence criterium\n",
    "                  ):\n",
    "    #minimize\n",
    "    X = X0\n",
    "    V = []\n",
    "    for t in xrange(maxsteps):\n",
    "        f, v = getForces(X,np.zeros(X.shape),D,k=k, gamma=0.)\n",
    "        X = X + dt*f\n",
    "        V.append(v)\n",
    "        \n",
    "        if t%10:\n",
    "            print 'max-force: %f, energy: %f' %(np.max(f), v)\n",
    "        \n",
    "        if t>2 and V[-2]/v-1<epsilon:\n",
    "            print 'Terminated after %i steps.' %t\n",
    "            return X, V\n",
    "        \n",
    "    return X, V\n",
    "\n",
    "def doLeapFrog(X0,              # initial positions\n",
    "               D,               # distance matrix\n",
    "               M=1.,            # masses\n",
    "               k=1.,            # spring constant\n",
    "               gamma=0.,        # friction coefficient\n",
    "               T=0.,            # temperature in kB\n",
    "               dt=1e-2,         # time step\n",
    "               steps=int(1e3),  # number of steps\n",
    "               dtout=0          # output frequency\n",
    "              ):\n",
    "    X = np.copy(X0)\n",
    "    V = np.zeros(X.shape)\n",
    "    _, w = getForces(X,V,D,k=k,gamma=gamma,T=T)\n",
    "    W = [w]\n",
    "    X_out = [X0]\n",
    "    \n",
    "    for t in xrange(steps):\n",
    "        F, w = getForces(X,V,D,k=k,gamma=gamma,T=T)\n",
    "        X = X + V * dt\n",
    "        V = V + (F.T/M).T * dt\n",
    "        \n",
    "        if dtout > 0 and not t%dtout:\n",
    "            X_out.append(np.copy(X))\n",
    "            W.append(w)\n",
    "            print 'step %i, energy %f' %(t,w)\n",
    "    \n",
    "    if dtout > 0:       \n",
    "        return X_out, W\n",
    "    else:\n",
    "        return X, w"
   ]
  },
  {
   "cell_type": "code",
   "execution_count": null,
   "metadata": {},
   "outputs": [],
   "source": [
    "# minimize old results starting from new PCA\n",
    "X = np.vstack([d_princ0, d_princ1]).T\n",
    "\n",
    "#scale D to same order of magnitude\n",
    "scale = np.max(np.std(X,axis=0))    \n",
    "D_scaled = D * 2.*scale/np.mean(D[D>0])\n",
    "D_scaled = D * 2.*scale/np.mean(D[D>0])\n",
    "\n",
    "X, W = doMinimization(X, D_scaled, epsilon=1e-10)"
   ]
  },
  {
   "cell_type": "code",
   "execution_count": null,
   "metadata": {},
   "outputs": [],
   "source": [
    "#2D plot\n",
    "f, ax = plt.subplots(1, figsize=(17,17), dpi=300)\n",
    "ax.axis('off')\n",
    "f.patch.set_facecolor('white')\n",
    "party2D(X[:,0], X[:,1])\n",
    "ax.set_title('Election map - Colors show k-means clustering',\n",
    "             fontsize=fontsize+1,fontweight='normal',**font)\n",
    "f.show()\n",
    "f.savefig('2D_MDS.png',bbox_inches='tight', dpi=300,facecolor=f.get_facecolor(), edgecolor='none')"
   ]
  },
  {
   "cell_type": "markdown",
   "metadata": {},
   "source": [
    "## Matrix"
   ]
  },
  {
   "cell_type": "code",
   "execution_count": null,
   "metadata": {},
   "outputs": [],
   "source": [
    "Title = u'Agreement of German Parties running for the Brandenburg election\\naccording to the Wahl-O-Mat (in %)'\n",
    "cmap = 'coolwarm'"
   ]
  },
  {
   "cell_type": "code",
   "execution_count": null,
   "metadata": {},
   "outputs": [],
   "source": [
    "#sorting according to 1st principle axis\n",
    "idx2 = d_princ0.argsort()\n",
    "Parties_sort = Parties[idx2]\n",
    "S_sort = S[idx2,:]\n",
    "S_sort = S_sort[:,idx2]\n",
    "ClusterLabels_sort = ClusterLabels[idx2]"
   ]
  },
  {
   "cell_type": "code",
   "execution_count": null,
   "metadata": {},
   "outputs": [],
   "source": [
    "def partylabel():\n",
    "    for j in xrange(NP):\n",
    "        partei = Parties_sort[j]\n",
    "        if partei in BT:\n",
    "            fweight = 'bold'\n",
    "            color = BTParties[partei]\n",
    "        else:\n",
    "            fweight = 'normal'\n",
    "            color = 'grey'\n",
    "        clustercolor = ClusterColors[ClusterLabels_sort[j]]\n",
    "        #xlabels\n",
    "        txt = ax.text(j, -0.65, partei, ha='center', va='bottom', color=color,\n",
    "                fontsize=fontsize,rotation=-90,fontweight=fweight,**font)        \n",
    "        ax.text(j, NP-0.35, partei, ha='center', va='top', color=clustercolor,\n",
    "                fontsize=fontsize,rotation=90,fontweight=fweight,**font)\n",
    "        #ylabels\n",
    "        ax.text(-0.6, j, partei, ha='right', va='center', color=color,\n",
    "                fontsize=fontsize,fontweight=fweight,**font)\n",
    "        ax.text(NP-0.35, j, partei, ha='left', va='center', color=clustercolor,\n",
    "                fontsize=fontsize,fontweight=fweight,**font)"
   ]
  },
  {
   "cell_type": "code",
   "execution_count": null,
   "metadata": {},
   "outputs": [],
   "source": [
    "import matplotlib.patheffects as PathEffects\n",
    "def labels():\n",
    "    for i in xrange(NP):\n",
    "        for j in xrange(NP):\n",
    "            if i!=j:\n",
    "                if Parties_sort[i] in BT or Parties_sort[j] in BT:\n",
    "                    weight = 'bold'\n",
    "                else:\n",
    "                    weight = 'normal'\n",
    "                txt = ax.text(j, i, '%d' % round(S_sort[i,j]*100), ha='center',\n",
    "                        va='center', color='white',fontsize=fontsize,fontweight=weight,**font)\n",
    "                txt.set_path_effects([PathEffects.withStroke(linewidth=3, foreground='grey')])"
   ]
  },
  {
   "cell_type": "code",
   "execution_count": null,
   "metadata": {
    "scrolled": false
   },
   "outputs": [],
   "source": [
    "f, ax = plt.subplots(1, figsize=(13, 13), dpi=300, facecolor='white')\n",
    "ax.imshow(S_sort,interpolation='none',cmap=cmap)#, vmin=0, vmax=1)\n",
    "ax.axis('off')\n",
    "partylabel()\n",
    "labels()\n",
    "ax.text(NP-0.5,NP+1, 'by /u/askLubich', ha='left', va='top',fontsize=10,**font)\n",
    "ax.text(NP+1.5,0, 'colored by cluster', ha='center', va='top', rotation=90,\n",
    "        fontsize=fontsize-2, color='grey', **font)\n",
    "ax.text(-2.5,0, 'colored by party', ha='center', va='top', rotation=90,\n",
    "        fontsize=fontsize-2, color='grey', **font)\n",
    "ax.set_title(Title,position=(0.5,1.17),fontsize=fontsize+3,fontweight='normal',**font)\n",
    "f.show()\n",
    "f.savefig('wahlomat.png',bbox_inches='tight', dpi=300)"
   ]
  },
  {
   "cell_type": "code",
   "execution_count": null,
   "metadata": {},
   "outputs": [],
   "source": []
  },
  {
   "cell_type": "code",
   "execution_count": null,
   "metadata": {},
   "outputs": [],
   "source": []
  }
 ],
 "metadata": {
  "kernelspec": {
   "display_name": "Python 2",
   "language": "python",
   "name": "python2"
  },
  "language_info": {
   "codemirror_mode": {
    "name": "ipython",
    "version": 2
   },
   "file_extension": ".py",
   "mimetype": "text/x-python",
   "name": "python",
   "nbconvert_exporter": "python",
   "pygments_lexer": "ipython2",
   "version": "2.7.15"
  }
 },
 "nbformat": 4,
 "nbformat_minor": 1
}
